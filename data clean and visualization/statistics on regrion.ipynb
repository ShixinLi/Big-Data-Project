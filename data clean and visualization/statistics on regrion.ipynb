{
 "cells": [
  {
   "cell_type": "code",
   "execution_count": 18,
   "metadata": {
    "collapsed": true
   },
   "outputs": [],
   "source": [
    "import pandas as pd"
   ]
  },
  {
   "cell_type": "code",
   "execution_count": 19,
   "metadata": {
    "collapsed": false,
    "scrolled": true
   },
   "outputs": [],
   "source": [
    "yellow_tripdata_01_20000=pd.read_csv('yellow_tripdata_01_20000.csv')\n",
    "yellow_tripdata_02_20000=pd.read_csv('yellow_tripdata_02_20000.csv')\n",
    "yellow_tripdata_03_20000=pd.read_csv('yellow_tripdata_03_20000.csv')\n",
    "yellow_tripdata_04_20000=pd.read_csv('yellow_tripdata_04_20000.csv')\n",
    "yellow_tripdata_05_20000=pd.read_csv('yellow_tripdata_05_20000.csv')\n",
    "yellow_tripdata_06_20000=pd.read_csv('yellow_tripdata_06_20000.csv')\n",
    "yellow_tripdata_07_20000=pd.read_csv('yellow_tripdata_07_20000.csv')\n",
    "yellow_tripdata_08_20000=pd.read_csv('yellow_tripdata_08_20000.csv')\n",
    "yellow_tripdata_09_20000=pd.read_csv('yellow_tripdata_09_20000.csv')\n",
    "yellow_tripdata_10_20000=pd.read_csv('yellow_tripdata_10_20000.csv')\n",
    "yellow_tripdata_11_20000=pd.read_csv('yellow_tripdata_11_20000.csv')\n",
    "yellow_tripdata_12_20000=pd.read_csv('yellow_tripdata_12_20000.csv')"
   ]
  },
  {
   "cell_type": "code",
   "execution_count": 20,
   "metadata": {
    "collapsed": false
   },
   "outputs": [],
   "source": [
    "del yellow_tripdata_01_20000['Unnamed: 0']\n",
    "del yellow_tripdata_02_20000['Unnamed: 0']\n",
    "del yellow_tripdata_03_20000['Unnamed: 0']\n",
    "del yellow_tripdata_04_20000['Unnamed: 0']\n",
    "del yellow_tripdata_05_20000['Unnamed: 0']\n",
    "del yellow_tripdata_06_20000['Unnamed: 0']\n",
    "del yellow_tripdata_07_20000['Unnamed: 0']\n",
    "del yellow_tripdata_08_20000['Unnamed: 0']\n",
    "del yellow_tripdata_09_20000['Unnamed: 0']\n",
    "del yellow_tripdata_10_20000['Unnamed: 0']\n",
    "del yellow_tripdata_11_20000['Unnamed: 0']\n",
    "del yellow_tripdata_12_20000['Unnamed: 0']"
   ]
  },
  {
   "cell_type": "code",
   "execution_count": 21,
   "metadata": {
    "collapsed": false
   },
   "outputs": [],
   "source": [
    "frames=[yellow_tripdata_01_20000,yellow_tripdata_02_20000,yellow_tripdata_03_20000,yellow_tripdata_04_20000,yellow_tripdata_05_20000,yellow_tripdata_06_20000,yellow_tripdata_07_20000,yellow_tripdata_08_20000,yellow_tripdata_09_20000,yellow_tripdata_10_20000,yellow_tripdata_11_20000,yellow_tripdata_12_20000]"
   ]
  },
  {
   "cell_type": "code",
   "execution_count": 22,
   "metadata": {
    "collapsed": true
   },
   "outputs": [],
   "source": [
    "result = pd.concat(frames)"
   ]
  },
  {
   "cell_type": "code",
   "execution_count": 23,
   "metadata": {
    "collapsed": false
   },
   "outputs": [
    {
     "name": "stdout",
     "output_type": "stream",
     "text": [
      "0\n",
      "1000\n",
      "2000\n",
      "3000\n",
      "4000\n",
      "5000\n",
      "6000\n",
      "7000\n",
      "8000\n",
      "9000\n",
      "10000\n",
      "11000\n",
      "12000\n",
      "13000\n",
      "14000\n",
      "15000\n",
      "16000\n",
      "17000\n",
      "18000\n",
      "19000\n",
      "20000\n",
      "21000\n",
      "22000\n",
      "23000\n",
      "24000\n",
      "25000\n",
      "26000\n",
      "27000\n",
      "28000\n",
      "29000\n",
      "30000\n",
      "31000\n",
      "32000\n",
      "33000\n",
      "34000\n",
      "35000\n",
      "36000\n",
      "37000\n",
      "38000\n",
      "39000\n",
      "40000\n",
      "41000\n",
      "42000\n",
      "43000\n",
      "44000\n",
      "45000\n",
      "46000\n",
      "47000\n",
      "48000\n",
      "49000\n",
      "50000\n",
      "51000\n",
      "52000\n",
      "53000\n",
      "54000\n",
      "55000\n",
      "56000\n",
      "57000\n",
      "58000\n",
      "59000\n",
      "60000\n",
      "61000\n",
      "62000\n",
      "63000\n",
      "64000\n",
      "65000\n",
      "66000\n",
      "67000\n",
      "68000\n",
      "69000\n",
      "70000\n",
      "71000\n",
      "72000\n",
      "73000\n",
      "74000\n",
      "75000\n",
      "76000\n",
      "77000\n",
      "78000\n",
      "79000\n",
      "80000\n",
      "81000\n",
      "82000\n",
      "83000\n",
      "84000\n",
      "85000\n",
      "86000\n",
      "87000\n",
      "88000\n",
      "89000\n",
      "90000\n",
      "91000\n",
      "92000\n",
      "93000\n",
      "94000\n",
      "95000\n",
      "96000\n",
      "97000\n",
      "98000\n",
      "99000\n",
      "100000\n",
      "101000\n",
      "102000\n",
      "103000\n",
      "104000\n",
      "105000\n",
      "106000\n",
      "107000\n",
      "108000\n",
      "109000\n",
      "110000\n",
      "111000\n",
      "112000\n",
      "113000\n",
      "114000\n",
      "115000\n",
      "116000\n",
      "117000\n",
      "118000\n",
      "119000\n",
      "120000\n",
      "121000\n",
      "122000\n",
      "123000\n",
      "124000\n",
      "125000\n",
      "126000\n",
      "127000\n",
      "128000\n",
      "129000\n",
      "130000\n",
      "131000\n",
      "132000\n",
      "133000\n",
      "134000\n",
      "135000\n",
      "136000\n",
      "137000\n",
      "138000\n",
      "139000\n",
      "140000\n",
      "141000\n",
      "142000\n",
      "143000\n",
      "144000\n",
      "145000\n",
      "146000\n",
      "147000\n",
      "148000\n",
      "149000\n",
      "150000\n",
      "151000\n",
      "152000\n",
      "153000\n",
      "154000\n",
      "155000\n",
      "156000\n",
      "157000\n",
      "158000\n",
      "159000\n",
      "160000\n",
      "161000\n",
      "162000\n",
      "163000\n",
      "164000\n",
      "165000\n",
      "166000\n",
      "167000\n",
      "168000\n",
      "169000\n",
      "170000\n",
      "171000\n",
      "172000\n",
      "173000\n",
      "174000\n",
      "175000\n",
      "176000\n",
      "177000\n",
      "178000\n",
      "179000\n",
      "180000\n",
      "181000\n",
      "182000\n",
      "183000\n",
      "184000\n",
      "185000\n",
      "186000\n",
      "187000\n",
      "188000\n",
      "189000\n",
      "190000\n",
      "191000\n",
      "192000\n",
      "193000\n",
      "194000\n",
      "195000\n",
      "196000\n",
      "197000\n",
      "198000\n",
      "199000\n",
      "200000\n",
      "201000\n",
      "202000\n",
      "203000\n",
      "204000\n",
      "205000\n",
      "206000\n",
      "207000\n",
      "208000\n",
      "209000\n",
      "210000\n",
      "211000\n",
      "212000\n",
      "213000\n",
      "214000\n",
      "215000\n",
      "216000\n",
      "217000\n",
      "218000\n",
      "219000\n",
      "220000\n",
      "221000\n",
      "222000\n",
      "223000\n",
      "224000\n",
      "225000\n",
      "226000\n",
      "227000\n",
      "228000\n",
      "229000\n",
      "230000\n",
      "231000\n",
      "232000\n",
      "233000\n",
      "234000\n",
      "235000\n",
      "236000\n",
      "237000\n",
      "238000\n",
      "239000\n"
     ]
    }
   ],
   "source": [
    "average_amount_list=list()\n",
    "for i in range(240000):\n",
    "    if i%1000==0:\n",
    "        print i\n",
    "    average_amount_list.append(result.iloc[i]['total_amount']/result.iloc[i]['trip_distance'])"
   ]
  },
  {
   "cell_type": "code",
   "execution_count": 24,
   "metadata": {
    "collapsed": true
   },
   "outputs": [],
   "source": [
    "result['average_amount']=average_amount_list"
   ]
  },
  {
   "cell_type": "code",
   "execution_count": 35,
   "metadata": {
    "collapsed": false
   },
   "outputs": [
    {
     "name": "stdout",
     "output_type": "stream",
     "text": [
      "8\n"
     ]
    }
   ],
   "source": [
    "sum=0\n",
    "number_list=list()\n",
    "for number in result['average_amount']:\n",
    "    if number==float('-Inf'):\n",
    "        number_list.append(number) \n",
    "print len(number_list) \n",
    "#     sum=sum+number\n",
    "#     print sum\n",
    "# sum"
   ]
  },
  {
   "cell_type": "code",
   "execution_count": 39,
   "metadata": {
    "collapsed": false
   },
   "outputs": [],
   "source": [
    "result=result[result['average_amount']!=float('Inf')]\n",
    "result=result[result['average_amount']!=float('-Inf')]"
   ]
  },
  {
   "cell_type": "code",
   "execution_count": 40,
   "metadata": {
    "collapsed": false
   },
   "outputs": [
    {
     "data": {
      "text/plain": [
       "8.142240463657261"
      ]
     },
     "execution_count": 40,
     "metadata": {},
     "output_type": "execute_result"
    }
   ],
   "source": [
    "result['average_amount'].mean()"
   ]
  },
  {
   "cell_type": "code",
   "execution_count": 44,
   "metadata": {
    "collapsed": false
   },
   "outputs": [],
   "source": [
    "result['tpep_pickup_datetime']=pd.to_datetime(result['tpep_pickup_datetime'])"
   ]
  },
  {
   "cell_type": "code",
   "execution_count": 56,
   "metadata": {
    "collapsed": false
   },
   "outputs": [],
   "source": [
    "month_list=list()\n",
    "hour_list=list()\n",
    "for i in range(len(result['tpep_pickup_datetime'])):\n",
    "    month_list.append(result['tpep_pickup_datetime'].iloc[i].month)\n",
    "    hour_list.append(result['tpep_pickup_datetime'].iloc[i].hour) "
   ]
  },
  {
   "cell_type": "code",
   "execution_count": 57,
   "metadata": {
    "collapsed": true
   },
   "outputs": [],
   "source": [
    "result.index=range(len(result))"
   ]
  },
  {
   "cell_type": "code",
   "execution_count": 58,
   "metadata": {
    "collapsed": true
   },
   "outputs": [],
   "source": [
    "result['month']=month_list\n",
    "result['hour']=hour_list"
   ]
  },
  {
   "cell_type": "code",
   "execution_count": 78,
   "metadata": {
    "collapsed": false
   },
   "outputs": [
    {
     "data": {
      "text/plain": [
       "7.291383477644912"
      ]
     },
     "execution_count": 78,
     "metadata": {},
     "output_type": "execute_result"
    }
   ],
   "source": [
    "result_0_7['average_amount'].mean()"
   ]
  },
  {
   "cell_type": "code",
   "execution_count": 60,
   "metadata": {
    "collapsed": false
   },
   "outputs": [],
   "source": [
    "result_groupby_month=result.groupby('month')"
   ]
  },
  {
   "cell_type": "code",
   "execution_count": 64,
   "metadata": {
    "collapsed": false
   },
   "outputs": [],
   "source": [
    "month_number_list=list()\n",
    "for i in range(1,13):\n",
    "    result_month=result_groupby_month.get_group(i)\n",
    "    month_number_list.append(result_month['average_amount'].mean())"
   ]
  },
  {
   "cell_type": "code",
   "execution_count": 79,
   "metadata": {
    "collapsed": true
   },
   "outputs": [],
   "source": [
    "result_groupby_month=result.groupby('hour')"
   ]
  },
  {
   "cell_type": "code",
   "execution_count": 87,
   "metadata": {
    "collapsed": false
   },
   "outputs": [],
   "source": [
    "hour_number_list=list()\n",
    "for i in range(24):\n",
    "    result_hour=result_groupby_month.get_group(i)\n",
    "    hour_number_list.append(result_hour['average_amount'].mean())"
   ]
  },
  {
   "cell_type": "code",
   "execution_count": 93,
   "metadata": {
    "collapsed": false,
    "scrolled": true
   },
   "outputs": [
    {
     "name": "stdout",
     "output_type": "stream",
     "text": [
      "0 6.80128567181\n",
      "1 6.89150629944\n",
      "2 10.6546777858\n",
      "3 6.83337296262\n",
      "4 7.34945634289\n",
      "5 6.83912502375\n",
      "6 6.06882543756\n",
      "7 7.11680697166\n",
      "8 8.46151196797\n",
      "9 8.37559935175\n",
      "10 8.33540795464\n",
      "11 8.62215644742\n",
      "12 8.16135655294\n",
      "13 8.25355718706\n",
      "14 8.95791265389\n",
      "15 8.32091417898\n",
      "16 9.10974092044\n",
      "17 8.88771902541\n",
      "18 9.11065016248\n",
      "19 8.88112564832\n",
      "20 8.05334191316\n",
      "21 7.02211013046\n",
      "22 7.16949270812\n",
      "23 7.91752064385\n"
     ]
    }
   ],
   "source": [
    "count=0\n",
    "for hour in hour_number_list:\n",
    "    print str(count)+\" \"+str(hour)\n",
    "    count+=1"
   ]
  },
  {
   "cell_type": "code",
   "execution_count": 28,
   "metadata": {
    "collapsed": false
   },
   "outputs": [],
   "source": [
    "import numpy as np\n",
    "result = result.dropna(subset=['average_amount'])"
   ]
  },
  {
   "cell_type": "code",
   "execution_count": 17,
   "metadata": {
    "collapsed": false
   },
   "outputs": [
    {
     "data": {
      "text/html": [
       "<div>\n",
       "<table border=\"1\" class=\"dataframe\">\n",
       "  <thead>\n",
       "    <tr style=\"text-align: right;\">\n",
       "      <th></th>\n",
       "      <th>RateCodeID</th>\n",
       "      <th>RatecodeID</th>\n",
       "      <th>VendorID</th>\n",
       "      <th>dropoff_latitude</th>\n",
       "      <th>dropoff_longitude</th>\n",
       "      <th>extra</th>\n",
       "      <th>fare_amount</th>\n",
       "      <th>improvement_surcharge</th>\n",
       "      <th>mta_tax</th>\n",
       "      <th>passenger_count</th>\n",
       "      <th>...</th>\n",
       "      <th>station_latitude</th>\n",
       "      <th>station_longitude</th>\n",
       "      <th>store_and_fwd_flag</th>\n",
       "      <th>tip_amount</th>\n",
       "      <th>tolls_amount</th>\n",
       "      <th>total_amount</th>\n",
       "      <th>tpep_dropoff_datetime</th>\n",
       "      <th>tpep_pickup_datetime</th>\n",
       "      <th>trip_distance</th>\n",
       "      <th>average_amount</th>\n",
       "    </tr>\n",
       "  </thead>\n",
       "  <tbody>\n",
       "  </tbody>\n",
       "</table>\n",
       "<p>0 rows × 24 columns</p>\n",
       "</div>"
      ],
      "text/plain": [
       "Empty DataFrame\n",
       "Columns: [RateCodeID, RatecodeID, VendorID, dropoff_latitude, dropoff_longitude, extra, fare_amount, improvement_surcharge, mta_tax, passenger_count, payment_type, pickup_latitude, pickup_longitude, station_id, station_latitude, station_longitude, store_and_fwd_flag, tip_amount, tolls_amount, total_amount, tpep_dropoff_datetime, tpep_pickup_datetime, trip_distance, average_amount]\n",
       "Index: []\n",
       "\n",
       "[0 rows x 24 columns]"
      ]
     },
     "execution_count": 17,
     "metadata": {},
     "output_type": "execute_result"
    }
   ],
   "source": [
    "result"
   ]
  },
  {
   "cell_type": "code",
   "execution_count": 6,
   "metadata": {
    "collapsed": false
   },
   "outputs": [],
   "source": [
    "result.index=range(240000)"
   ]
  },
  {
   "cell_type": "code",
   "execution_count": 8,
   "metadata": {
    "collapsed": false
   },
   "outputs": [
    {
     "data": {
      "text/plain": [
       "0          9.12\n",
       "1          6.80\n",
       "2         29.15\n",
       "3         13.80\n",
       "4          7.80\n",
       "5         12.36\n",
       "6         11.00\n",
       "7         12.95\n",
       "8          6.30\n",
       "9          7.80\n",
       "10        45.13\n",
       "11         9.80\n",
       "12        16.80\n",
       "13         9.80\n",
       "14         9.30\n",
       "15        62.46\n",
       "16         7.30\n",
       "17        11.00\n",
       "18        62.78\n",
       "19         6.30\n",
       "20        15.80\n",
       "21         7.30\n",
       "22         9.95\n",
       "23        10.30\n",
       "24         9.80\n",
       "25         6.30\n",
       "26        12.30\n",
       "27        21.63\n",
       "28        13.30\n",
       "29        15.38\n",
       "          ...  \n",
       "239970    25.55\n",
       "239971     7.80\n",
       "239972    24.95\n",
       "239973    16.60\n",
       "239974     8.00\n",
       "239975     8.15\n",
       "239976    15.30\n",
       "239977    11.80\n",
       "239978    28.34\n",
       "239979    18.95\n",
       "239980     6.62\n",
       "239981    11.80\n",
       "239982     7.80\n",
       "239983     7.74\n",
       "239984    73.34\n",
       "239985    14.80\n",
       "239986    14.80\n",
       "239987    19.30\n",
       "239988     9.30\n",
       "239989     9.30\n",
       "239990     6.80\n",
       "239991    23.15\n",
       "239992     6.80\n",
       "239993    23.76\n",
       "239994     8.30\n",
       "239995     6.80\n",
       "239996    18.36\n",
       "239997    11.30\n",
       "239998    14.30\n",
       "239999    11.16\n",
       "Name: total_amount, dtype: float64"
      ]
     },
     "execution_count": 8,
     "metadata": {},
     "output_type": "execute_result"
    }
   ],
   "source": [
    "result['total_amount']"
   ]
  },
  {
   "cell_type": "code",
   "execution_count": 14,
   "metadata": {
    "collapsed": false
   },
   "outputs": [],
   "source": [
    "result_group_by_id=result.groupby('station_id')"
   ]
  },
  {
   "cell_type": "code",
   "execution_count": 38,
   "metadata": {
    "collapsed": true
   },
   "outputs": [],
   "source": [
    "citibike_tripdata=pd.read_csv(\"data/201512-citibike-tripdata.csv\")\n",
    "station_id_list=list(citibike_tripdata['start station id'].unique())\n",
    "start_station_latitude_list=list(citibike_tripdata['start station latitude'].unique())\n",
    "start_station_longitude_list=list(citibike_tripdata['start station longitude'].unique())"
   ]
  },
  {
   "cell_type": "code",
   "execution_count": 31,
   "metadata": {
    "collapsed": false
   },
   "outputs": [],
   "source": [
    "station_id_list=result['station_id'].unique()"
   ]
  },
  {
   "cell_type": "code",
   "execution_count": 32,
   "metadata": {
    "collapsed": true
   },
   "outputs": [],
   "source": [
    "number_of_trip_list=list()\n",
    "for station_id in station_id_list:\n",
    "    station_id_group=result_group_by_id.get_group(station_id)\n",
    "    number_of_trip_list.append(len(station_id_group))"
   ]
  },
  {
   "cell_type": "code",
   "execution_count": 41,
   "metadata": {
    "collapsed": false
   },
   "outputs": [],
   "source": [
    "df=pd.DataFrame({'station_id':station_id_list,'number_of_trip':number_of_trip_list,'station_latitude':start_station_latitude_list,'station_longitude':start_station_longitude_list})"
   ]
  },
  {
   "cell_type": "code",
   "execution_count": 42,
   "metadata": {
    "collapsed": false
   },
   "outputs": [
    {
     "name": "stderr",
     "output_type": "stream",
     "text": [
      "/Users/zeweiliu/anaconda/lib/python2.7/site-packages/ipykernel/__main__.py:1: FutureWarning: sort(columns=....) is deprecated, use sort_values(by=.....)\n",
      "  if __name__ == '__main__':\n"
     ]
    }
   ],
   "source": [
    "df=df.sort(['number_of_trip'])"
   ]
  },
  {
   "cell_type": "code",
   "execution_count": 43,
   "metadata": {
    "collapsed": false
   },
   "outputs": [],
   "source": [
    "df.to_csv('station_region.csv')"
   ]
  },
  {
   "cell_type": "code",
   "execution_count": 44,
   "metadata": {
    "collapsed": false
   },
   "outputs": [
    {
     "data": {
      "text/plain": [
       "471"
      ]
     },
     "execution_count": 44,
     "metadata": {},
     "output_type": "execute_result"
    }
   ],
   "source": [
    "len(station_id_list)"
   ]
  },
  {
   "cell_type": "code",
   "execution_count": null,
   "metadata": {
    "collapsed": true
   },
   "outputs": [],
   "source": []
  }
 ],
 "metadata": {
  "kernelspec": {
   "display_name": "Python 2",
   "language": "python",
   "name": "python2"
  },
  "language_info": {
   "codemirror_mode": {
    "name": "ipython",
    "version": 2
   },
   "file_extension": ".py",
   "mimetype": "text/x-python",
   "name": "python",
   "nbconvert_exporter": "python",
   "pygments_lexer": "ipython2",
   "version": "2.7.11"
  }
 },
 "nbformat": 4,
 "nbformat_minor": 0
}
